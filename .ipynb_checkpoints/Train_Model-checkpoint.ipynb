{
 "cells": [
  {
   "cell_type": "code",
   "execution_count": 4,
   "id": "4471fab0-4380-43f2-8066-d8d93b354a73",
   "metadata": {},
   "outputs": [
    {
     "name": "stdout",
     "output_type": "stream",
     "text": [
      "Model saved to pickle file: winequalitymodel.pkl\n"
     ]
    }
   ],
   "source": [
    "import pandas as pd\n",
    "from sklearn.model_selection import train_test_split\n",
    "from sklearn.ensemble import RandomForestClassifier\n",
    "from sklearn.preprocessing import LabelEncoder\n",
    "import pickle  # Import pickle for model saving\n",
    "\n",
    "wine = pd.read_csv('wine_data.csv')\n",
    "\n",
    "le = LabelEncoder()\n",
    "wine['type'] = le.fit_transform(wine['type'])\n",
    "\n",
    "X = wine.drop('quality', axis=1)\n",
    "y = wine['quality']\n",
    "\n",
    "X_train, X_test, y_train, y_test = train_test_split(X, y, test_size=0.2, random_state=42)\n",
    "\n",
    "# Train the Random Forest model (same as before)\n",
    "model_rf = RandomForestClassifier(n_estimators=175, max_depth=30, random_state=42)\n",
    "model_rf.fit(X_train, y_train)\n",
    "\n",
    "# Save the model to a pickle file\n",
    "filename = 'winequalitymodel.pkl'  # Replace with your desired filename\n",
    "with open(filename, 'wb') as f:\n",
    "    pickle.dump(model_rf, f)\n",
    "\n",
    "print(f\"Model saved to pickle file: {filename}\")"
   ]
  },
  {
   "cell_type": "code",
   "execution_count": null,
   "id": "82c18a72-8e52-46d6-8933-9ae681bb116e",
   "metadata": {},
   "outputs": [],
   "source": []
  }
 ],
 "metadata": {
  "kernelspec": {
   "display_name": "Python 3 (ipykernel)",
   "language": "python",
   "name": "python3"
  },
  "language_info": {
   "codemirror_mode": {
    "name": "ipython",
    "version": 3
   },
   "file_extension": ".py",
   "mimetype": "text/x-python",
   "name": "python",
   "nbconvert_exporter": "python",
   "pygments_lexer": "ipython3",
   "version": "3.11.9"
  }
 },
 "nbformat": 4,
 "nbformat_minor": 5
}
